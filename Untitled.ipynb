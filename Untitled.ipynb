{
 "cells": [
  {
   "cell_type": "code",
   "execution_count": 1,
   "metadata": {},
   "outputs": [
    {
     "name": "stderr",
     "output_type": "stream",
     "text": [
      "/usr/lib/python3.5/importlib/_bootstrap.py:222: RuntimeWarning: numpy.dtype size changed, may indicate binary incompatibility. Expected 96, got 88\n",
      "  return f(*args, **kwds)\n",
      "/usr/lib/python3.5/importlib/_bootstrap.py:222: RuntimeWarning: numpy.dtype size changed, may indicate binary incompatibility. Expected 96, got 88\n",
      "  return f(*args, **kwds)\n",
      "/usr/lib/python3.5/importlib/_bootstrap.py:222: RuntimeWarning: numpy.dtype size changed, may indicate binary incompatibility. Expected 96, got 88\n",
      "  return f(*args, **kwds)\n",
      "/usr/lib/python3.5/importlib/_bootstrap.py:222: RuntimeWarning: numpy.dtype size changed, may indicate binary incompatibility. Expected 96, got 88\n",
      "  return f(*args, **kwds)\n",
      "/usr/lib/python3.5/importlib/_bootstrap.py:222: RuntimeWarning: numpy.dtype size changed, may indicate binary incompatibility. Expected 96, got 88\n",
      "  return f(*args, **kwds)\n",
      "/usr/lib/python3.5/importlib/_bootstrap.py:222: RuntimeWarning: numpy.dtype size changed, may indicate binary incompatibility. Expected 96, got 88\n",
      "  return f(*args, **kwds)\n",
      "/usr/local/lib/python3.5/dist-packages/nptdms/tdms.py:772: FutureWarning: from_items is deprecated. Please use DataFrame.from_dict(dict(items), ...) instead. DataFrame.from_dict(OrderedDict(items)) may be used to preserve the key order.\n",
      "  for ch in self.tdms_file.group_channels(self.group)])\n"
     ]
    },
    {
     "data": {
      "text/plain": [
       "'\\nStep 3: after get the single unit, we can go further to detect the trend, or event\\ne.g. params are: dataset, delta, window size\\n'"
      ]
     },
     "execution_count": 1,
     "metadata": {},
     "output_type": "execute_result"
    }
   ],
   "source": [
    "from nptdms import TdmsFile\n",
    "import pandas as pd\n",
    "import numpy as np\n",
    "from sklearn.cluster import KMeans\n",
    "from matplotlib.mlab import PCA\n",
    "import npfeintool as npF\n",
    "from npfeintool import filterVar\n",
    "import matplotlib.pyplot as plt\n",
    "\n",
    "\n",
    "# load in data, take the TDMS data type as example\n",
    "tdms_file = TdmsFile(\"AKF-FW1-1-H1021-1500.tdms\")\n",
    "#preprocessing the data type 'DINT' \n",
    "df = tdms_file.object('DINT').as_dataframe()\n",
    "\n",
    "'''\n",
    "Step 1: kick out the \"all zero\", \"all one\" value\n",
    "this Step is essential for selection meaningful selection\n",
    "\n",
    "'''\n",
    "x =  npF.kill_all_x(0, df)\n",
    "x = npF.keep_x_var(0.8, x)\n",
    "#findout the selected columns\n",
    "ix = np.isin(df.values[0,:], x[0])\n",
    "column_indices = np.where(ix==True)\n",
    "df = df.iloc[:,column_indices[0]]\n",
    "'''\n",
    "Step 2: divide the periodical time series data into unit\n",
    "e.g. we select only one channel data to segementation\n",
    "    Params are: dataset, windsize(the approx unit size)\n",
    "'''\n",
    "\n",
    "df_power = df['SupplyUnit 50U4 (Unidrive M701 Regen).Transmit PDO Mapping 8.Leistung']\n",
    "df_seg = npF.SW_seg(df_power, 968)\n",
    "df_power[1:400].plot()\n",
    "'''\n",
    "Step 3: after get the single unit, we can go further to detect the trend, or event\n",
    "e.g. params are: dataset, delta, window size\n",
    "'''\n",
    "# choose one unit to dectec the trends\n",
    "#npF.Trend_Detection(df_seg[2], 279, 1000)\n",
    "# choose the whole sequences \n",
    "#npF.Trend_Detection(df_power, 279, 1000)\n",
    "\n"
   ]
  },
  {
   "cell_type": "code",
   "execution_count": 3,
   "metadata": {},
   "outputs": [
    {
     "data": {
      "image/png": "[encoded data removed]",
      "text/plain": [
       "<Figure size 432x288 with 1 Axes>"
      ]
     },
     "metadata": {},
     "output_type": "display_data"
    }
   ],
   "source": [
    "npF.Trend_Detection(df_seg[2], 279, 1000)\n",
    "# choose the whole sequences \n",
    "#npF.Trend_Detection(df_power, 279, 1000)\n"
   ]
  },
  {
   "cell_type": "code",
   "execution_count": null,
   "metadata": {},
   "outputs": [],
   "source": []
  }
 ],
 "metadata": {
  "kernelspec": {
   "display_name": "Python 3",
   "language": "python",
   "name": "python3"
  },
  "language_info": {
   "codemirror_mode": {
    "name": "ipython",
    "version": 3
   },
   "file_extension": ".py",
   "mimetype": "text/x-python",
   "name": "python",
   "nbconvert_exporter": "python",
   "pygments_lexer": "ipython3",
   "version": "3.5.2"
  }
 },
 "nbformat": 4,
 "nbformat_minor": 2
}
